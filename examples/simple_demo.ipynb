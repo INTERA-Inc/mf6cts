{
 "cells": [
  {
   "cell_type": "markdown",
   "id": "ad30d5f4",
   "metadata": {},
   "source": [
    "# Simple example of using the `Mf6Cts` package\n",
    "\n",
    "This notebook will demo a very simple use case of the `Mf6Cts` contaminant treatment system (CTS) package.  A CTS instance looks like this:\n",
    "\n",
    "<img src=\"fig1.png\" width=700 height=700 />\n",
    "\n",
    "Essentially, a CTS can have multiple extractions wells and multiple injection wells.  The `Mf6Cts` implementation allows both \"WEL\" and \"MAW\" type boundaries for a CTS instance.  \n",
    "\n",
    "The implementation herein allows multiple CTS instances, and the configuration and treatment efficiency of each CTS instance can change at the stress period level.  This is all similar to the CTS functionality implemented in MT3D-USGS.\n",
    "\n",
    "What our implementation does that is different is \n",
    " - it automatically balances extraction flows and injection flows and \n",
    " - support unstructured grids.  \n",
    " \n",
    "The former is important when the model may not be able to meet the requested extraction (during scenario testing, management optimization, etc).\n",
    "\n",
    "Let's see this thing in action!\n",
    "\n",
    "\n",
    "First import the usuals"
   ]
  },
  {
   "cell_type": "code",
   "execution_count": null,
   "id": "3355f739",
   "metadata": {},
   "outputs": [],
   "source": [
    "import os\n",
    "import sys\n",
    "import shutil\n",
    "import numpy as np\n",
    "import matplotlib.pyplot as plt\n",
    "import pandas as pd\n"
   ]
  },
  {
   "cell_type": "markdown",
   "id": "a52b0a3e",
   "metadata": {},
   "source": [
    "And we need to get access to the autotesting script and the `Mf6Cts` class itself:"
   ]
  },
  {
   "cell_type": "code",
   "execution_count": null,
   "id": "1b0464e1",
   "metadata": {},
   "outputs": [],
   "source": [
    "sys.path.append(os.path.join(\"..\",\"autotest\"))\n",
    "sys.path.append(os.path.join(\"..\",\"mf6cts\"))\n",
    "import flopy #the flopy scr is in the autotest dir..."
   ]
  },
  {
   "cell_type": "code",
   "execution_count": null,
   "id": "c355c69c",
   "metadata": {},
   "outputs": [],
   "source": [
    "import mf6cts # the src file holding the Mf6Cts class"
   ]
  },
  {
   "cell_type": "code",
   "execution_count": null,
   "id": "64616667",
   "metadata": {},
   "outputs": [],
   "source": [
    "import cts_mf6_test # the autotesting script"
   ]
  },
  {
   "cell_type": "markdown",
   "id": "62df6fb4",
   "metadata": {},
   "source": [
    "And we need to know the name of the mf6 shared lib and executable files for the current operating system:"
   ]
  },
  {
   "cell_type": "code",
   "execution_count": null,
   "id": "a2e659a8",
   "metadata": {},
   "outputs": [],
   "source": [
    "lib_name = cts_mf6_test.lib_name\n",
    "mf6_bin = cts_mf6_test.mf6_bin"
   ]
  },
  {
   "cell_type": "markdown",
   "id": "7001fd05",
   "metadata": {},
   "source": [
    "Now we will use a handy-dandy function in the autotest script to setup the flow and transport models for us.  This model will have two CTS instances and each instance will have a time-varying (random) efficiencies centered around the values passed below.  dissolved phase mass will be introduced via the upgradient GHB-type boundary condition"
   ]
  },
  {
   "cell_type": "code",
   "execution_count": null,
   "id": "6b0dc798",
   "metadata": {},
   "outputs": [],
   "source": [
    "org_sim_ws = \"fivespot\"\n",
    "np.random.seed(111)\n",
    "cts_mf6_test.setup_five_spotish(plot=False, sim_ws=org_sim_ws, simple_pattern=True, eff1=0.5, eff2=0.7, nlay=1,ghb_source=1)\n"
   ]
  },
  {
   "cell_type": "markdown",
   "id": "df941c44",
   "metadata": {},
   "source": [
    "That function essentially built and ran the flow and transport models for us (for testing purposes) and also wrote the CTS input file\n",
    "\n",
    "The flow-model subdirectory:"
   ]
  },
  {
   "cell_type": "code",
   "execution_count": null,
   "id": "f568c815",
   "metadata": {},
   "outputs": [],
   "source": [
    "os.listdir(\"fivespot\")"
   ]
  },
  {
   "cell_type": "markdown",
   "id": "8584fd90",
   "metadata": {},
   "source": [
    "The transport-model subdirectory:"
   ]
  },
  {
   "cell_type": "code",
   "execution_count": null,
   "id": "27cd0870",
   "metadata": {},
   "outputs": [],
   "source": [
    "os.listdir(\"fivespot_t\")"
   ]
  },
  {
   "cell_type": "markdown",
   "id": "89f507c8",
   "metadata": {},
   "source": [
    "Ooohh - let's check out \"model.cts\"!"
   ]
  },
  {
   "cell_type": "code",
   "execution_count": null,
   "id": "ccc48bd1",
   "metadata": {},
   "outputs": [],
   "source": [
    "lines = open(os.path.join(\"fivespot_t\",\"model.cts\")).readlines()\n",
    "_ =[print(line.strip()) for line in lines]"
   ]
  },
  {
   "cell_type": "markdown",
   "id": "cd2675ae",
   "metadata": {},
   "source": [
    "We see the each CTS instance has a period block for each stress period that it is active and the each period block can have an optional efficiency supplied.  Each period block line lists the package type (in this case \"wel\"), the package instance name (\"wel_0\"), an in-out flag (either \"in\" or \"out\") and then index information that describes where in the model the CTS member is located.  For WEL in structured grids, this is the layer-row-column info.  For WEL in unstructed grids, this is the node number.  For MAW-type boundaries, this is the \"welno\" value. "
   ]
  },
  {
   "cell_type": "markdown",
   "id": "6c5a7371",
   "metadata": {},
   "source": [
    "Now lets check out the standard MF6 solution results:"
   ]
  },
  {
   "cell_type": "code",
   "execution_count": null,
   "id": "69599e87",
   "metadata": {},
   "outputs": [],
   "source": [
    "sim = flopy.mf6.MFSimulation.load(sim_ws=\"fivespot\")\n",
    "m = sim.get_model(\"gwf\")\n",
    "widx = [i[0] for i in m.get_package(\"wel\").stress_period_data.data[1]]\n",
    "hds = flopy.utils.HeadFile(os.path.join(\"fivespot\",\"gwf.hds\"))\n",
    "ucn = flopy.utils.HeadFile(os.path.join(\"fivespot_t\",\"gwt.ucn\"),text=\"concentration\")\n",
    "fig,ax = plt.subplots(1,1,figsize=(6,6))\n",
    "carr = ucn.get_data()[0]\n",
    "carr[carr<=0.0001] = np.nan\n",
    "c = ax.imshow(carr,cmap=\"jet\",alpha=0.5)\n",
    "plt.colorbar(c,ax=ax)\n",
    "lb = ax.contour(hds.get_data()[0],levels=5,colors='0.5')\n",
    "ax.clabel(lb,fontsize=15)\n",
    "for w in widx:\n",
    "    ax.scatter(w[2],w[1],marker=\"^\",c=\"k\")\n",
    "garr = np.zeros((m.dis.nrow.data,m.dis.ncol.data))\n",
    "for idx in m.get_package(\"ghb\").stress_period_data.data[1]:\n",
    "    garr[idx[0][1],idx[0][2]] = idx[2]\n",
    "garr[garr == 0] = np.nan\n",
    "ax.imshow(garr,cmap=\"cool\")\n"
   ]
  },
  {
   "cell_type": "markdown",
   "id": "938a8ad0",
   "metadata": {},
   "source": [
    "The triangles are the WEL locations.  Two extraction wells are shown near the center-right of the model domain, the injections wells are along the edges of the domain.  The effect the of the pump-and-treat system can be seen in the head contours and the concentration distribution.  Remember, this is just the standard MF6 flow and transport solution - no CTS-specific flow balancing or treatment efficiency has been applied."
   ]
  },
  {
   "cell_type": "markdown",
   "id": "9369c3dc",
   "metadata": {},
   "source": [
    "Now let's check out the global water balance info:"
   ]
  },
  {
   "cell_type": "code",
   "execution_count": null,
   "id": "95610350",
   "metadata": {},
   "outputs": [],
   "source": [
    "inc,cum = flopy.utils.Mf6ListBudget(os.path.join(\"fivespot\",\"gwf.lst\")).get_dataframes()"
   ]
  },
  {
   "cell_type": "code",
   "execution_count": null,
   "id": "bae9034c",
   "metadata": {},
   "outputs": [],
   "source": [
    "inc.loc[:,inc.columns.str.contains(\"WEL\")]"
   ]
  },
  {
   "cell_type": "markdown",
   "id": "a890ffb0",
   "metadata": {},
   "source": [
    "Ruh roh - we were injecting more than we were extracting, meaning our CTS instance were not \"closed-loop\". #sad"
   ]
  },
  {
   "cell_type": "markdown",
   "id": "7be23d75",
   "metadata": {},
   "source": [
    "### CTS time!\n",
    "\n",
    "First we need to copy the shared MF6 library file to both the flow and transport model directories:"
   ]
  },
  {
   "cell_type": "code",
   "execution_count": null,
   "id": "8b5784cd",
   "metadata": {},
   "outputs": [],
   "source": [
    "shutil.copy2(lib_name, os.path.join(\"fivespot_t\", os.path.split(lib_name)[-1]))\n",
    "shutil.copy2(lib_name, os.path.join(\"fivespot\", os.path.split(lib_name)[-1]))"
   ]
  },
  {
   "cell_type": "markdown",
   "id": "34c1832b",
   "metadata": {},
   "source": [
    "Now we can instantiate an `Mf6Cts` instance:"
   ]
  },
  {
   "cell_type": "code",
   "execution_count": null,
   "id": "a00cbe52",
   "metadata": {},
   "outputs": [],
   "source": [
    "mf = mf6cts.Mf6Cts(\"model.cts\",os.path.split(lib_name)[-1],\"fivespot_t\",\"fivespot\")"
   ]
  },
  {
   "cell_type": "markdown",
   "id": "aee6e7a0",
   "metadata": {},
   "source": [
    "Solve the flow-model, balancing the each CTS instance's extraction vs injection rates:"
   ]
  },
  {
   "cell_type": "code",
   "execution_count": null,
   "id": "717bdbb4",
   "metadata": {},
   "outputs": [],
   "source": [
    "mf.solve_gwf()"
   ]
  },
  {
   "cell_type": "markdown",
   "id": "9bdf5834",
   "metadata": {},
   "source": [
    "Let's inspect some of the CTS-specific CSV files that were created:"
   ]
  },
  {
   "cell_type": "code",
   "execution_count": null,
   "id": "ae8d21f9",
   "metadata": {},
   "outputs": [],
   "source": [
    "pd.read_csv(os.path.join(\"fivespot\",\"gwf_cts_flow_node_summary.csv\"))"
   ]
  },
  {
   "cell_type": "code",
   "execution_count": null,
   "id": "7373671e",
   "metadata": {},
   "outputs": [],
   "source": [
    "pd.read_csv(os.path.join(\"fivespot\",\"gwf_cts_flow_system_summary.csv\"))"
   ]
  },
  {
   "cell_type": "markdown",
   "id": "5127d6c1",
   "metadata": {},
   "source": [
    "We can see that the CTS instances were (purposefully) unable to meet the requested extraction rates.  This resulted in turning down the injection rates so that we arent injecting more water than we are extracting for each CTS instance, for each stress period/time step"
   ]
  },
  {
   "cell_type": "code",
   "execution_count": null,
   "id": "2aae2e76",
   "metadata": {},
   "outputs": [],
   "source": [
    "inc,cum = flopy.utils.Mf6ListBudget(os.path.join(\"fivespot\",\"gwf.lst\")).get_dataframes()\n",
    "inc.loc[:,inc.columns.str.contains(\"WEL\")]"
   ]
  },
  {
   "cell_type": "markdown",
   "id": "d95b5d2a",
   "metadata": {},
   "source": [
    "Now we see that the extraction and injection rates balance according to the MODFLOW global water budget info - ah yeah!"
   ]
  },
  {
   "cell_type": "markdown",
   "id": "833f40a8",
   "metadata": {},
   "source": [
    "Now to run the transport solution using the flow-balanced CTS results, we need to copy the flow model binary output files to the tranport model directory:"
   ]
  },
  {
   "cell_type": "code",
   "execution_count": null,
   "id": "a0a4af71",
   "metadata": {},
   "outputs": [],
   "source": [
    "shutil.copy2(os.path.join(\"fivespot\", \"gwf.hds\"), os.path.join(\"fivespot_t\" \"gwf.hds\"))\n",
    "shutil.copy2(os.path.join(\"fivespot\", \"gwf.bud\"), os.path.join(\"fivespot_t\", \"gwf.bud\"))"
   ]
  },
  {
   "cell_type": "markdown",
   "id": "55c36036",
   "metadata": {},
   "source": [
    "Now solve the transport model and apply the requested efficiency factor to each CTS instance for each stress period:"
   ]
  },
  {
   "cell_type": "code",
   "execution_count": null,
   "id": "e3247782",
   "metadata": {},
   "outputs": [],
   "source": [
    "mf.solve_gwt()"
   ]
  },
  {
   "cell_type": "markdown",
   "id": "7a4fba70",
   "metadata": {},
   "source": [
    "Finalize, which releases control over the file handles:"
   ]
  },
  {
   "cell_type": "code",
   "execution_count": null,
   "id": "980cb409",
   "metadata": {},
   "outputs": [],
   "source": [
    "mf.finalize()"
   ]
  },
  {
   "cell_type": "markdown",
   "id": "ad3a71ea",
   "metadata": {},
   "source": [
    "Now lets visualize the results of the flow and transport models that were solved using the CTS-specific results..."
   ]
  },
  {
   "cell_type": "code",
   "execution_count": null,
   "id": "136c620c",
   "metadata": {},
   "outputs": [],
   "source": [
    "sim = flopy.mf6.MFSimulation.load(sim_ws=\"fivespot\")\n",
    "m = sim.get_model(\"gwf\")\n",
    "widx = [i[0] for i in m.get_package(\"wel\").stress_period_data.data[1]]\n",
    "hds = flopy.utils.HeadFile(os.path.join(\"fivespot\",\"gwf.hds\"))\n",
    "ucn = flopy.utils.HeadFile(os.path.join(\"fivespot_t\",\"gwt.ucn\"),text=\"concentration\")\n",
    "fig,ax = plt.subplots(1,1,figsize=(6,6))\n",
    "carr = ucn.get_data(kstpkper=(0,7))[0]\n",
    "carr[carr<=0.0001] = np.nan\n",
    "c = ax.imshow(carr,cmap=\"jet\",alpha=0.5)\n",
    "plt.colorbar(c,ax=ax)\n",
    "lb = ax.contour(hds.get_data(kstpkper=(0,7))[0],levels=5,colors='0.5')\n",
    "ax.clabel(lb,fontsize=15)\n",
    "for w in widx:\n",
    "    ax.scatter(w[2],w[1],marker=\"^\",c=\"k\")\n",
    "garr = np.zeros((m.dis.nrow.data,m.dis.ncol.data))\n",
    "for idx in m.get_package(\"ghb\").stress_period_data.data[1]:\n",
    "    garr[idx[0][1],idx[0][2]] = idx[2]\n",
    "garr[garr == 0] = np.nan\n",
    "ax.imshow(garr,cmap=\"cool\")\n"
   ]
  },
  {
   "cell_type": "markdown",
   "id": "feea6c16",
   "metadata": {},
   "source": [
    "We can see the effect of the flow balancing (compared to above) in the head contours.  We can also see the effect of the treatment effiency in the concentration distribution, especially near the injection wells.\n",
    "\n",
    "Let's finish up by looking at the transport model CTS summary CSV files:"
   ]
  },
  {
   "cell_type": "code",
   "execution_count": null,
   "id": "44e294c9",
   "metadata": {},
   "outputs": [],
   "source": [
    "pd.read_csv(os.path.join(\"fivespot_t\",\"gwt_cts_node_summary.csv\"))"
   ]
  },
  {
   "cell_type": "code",
   "execution_count": null,
   "id": "ad4e9da3",
   "metadata": {},
   "outputs": [],
   "source": [
    "df = pd.read_csv(os.path.join(\"fivespot_t\",\"gwt_cts_system_summary.csv\"))\n",
    "df"
   ]
  },
  {
   "cell_type": "code",
   "execution_count": null,
   "id": "f508ed55",
   "metadata": {},
   "outputs": [],
   "source": [
    "fig,axes = plt.subplots(2,1,figsize=(6,6))\n",
    "for ax,cts in zip(axes,df.cts_system.unique()):\n",
    "    cdf = df.loc[df.cts_system==cts,:].copy()\n",
    "    cdf.sort_values(by=\"stress_period\",inplace=True)\n",
    "    ax.plot(cdf.stress_period,cdf.concen_injected,\"g\")\n",
    "    axt = plt.twinx(ax)\n",
    "    axt.scatter(cdf.stress_period,cdf.requested_efficiency,c='m')\n",
    "    ax.set_title(\"cts:{0}\".format(cts),loc=\"left\",fontsize=10)\n",
    "    ax.set_xlabel('stress period',fontsize=10)\n",
    "    ax.set_ylabel('concentration',fontsize=10,color=\"g\")\n",
    "    ax.set_ylim(0,1)\n",
    "    axt.set_ylim(0,1)\n",
    "    axt.set_ylabel(\"efficiency\",fontsize=10,color=\"m\")\n",
    "    ax.grid()"
   ]
  },
  {
   "cell_type": "code",
   "execution_count": null,
   "id": "0f7e605e",
   "metadata": {},
   "outputs": [],
   "source": []
  }
 ],
 "metadata": {
  "kernelspec": {
   "display_name": "Python 3 (ipykernel)",
   "language": "python",
   "name": "python3"
  },
  "language_info": {
   "codemirror_mode": {
    "name": "ipython",
    "version": 3
   },
   "file_extension": ".py",
   "mimetype": "text/x-python",
   "name": "python",
   "nbconvert_exporter": "python",
   "pygments_lexer": "ipython3",
   "version": "3.8.2"
  }
 },
 "nbformat": 4,
 "nbformat_minor": 5
}
